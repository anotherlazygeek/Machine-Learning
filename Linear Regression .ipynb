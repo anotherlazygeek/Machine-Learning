{
 "cells": [
  {
   "cell_type": "code",
   "execution_count": 2,
   "metadata": {
    "collapsed": false
   },
   "outputs": [
    {
     "data": {
      "image/png": "[encoded data removed]",
      "text/plain": [
       "<matplotlib.figure.Figure at 0x1bc0dbdb4e0>"
      ]
     },
     "metadata": {},
     "output_type": "display_data"
    }
   ],
   "source": [
    "import pandas as pd\n",
    "import numpy as np\n",
    "import matplotlib.pyplot as plt\n",
    "\n",
    "data = pd.read_excel('random.xlsx')\n",
    "array= data.values\n",
    "tempfix = lambda t : t + 8.68                                                   \n",
    "vtempfix= np.vectorize(tempfix)                                                 \n",
    "newcolumn = vtempfix(array[:,5])                                                \n",
    "reshapenewcolumn = np.reshape(newcolumn, (newcolumn.size, 1))                   \n",
    "betterdata=np.append(array,reshapenewcolumn,axis=1)                                \n",
    "np.set_printoptions(edgeitems=4,formatter={'float_kind':'{:0.3f}'.format})      \n",
    "\n",
    "#print(betterdata) \n",
    "\n",
    "def avg(y):                                  \n",
    "    \n",
    "    i=range(0,49307)\n",
    "    j=range(1,365)\n",
    "    req=[]\n",
    "    for elm in i:\n",
    "         if betterdata[elm,1] == y:                         \n",
    "            req.append(betterdata[elm,:])\n",
    "    reqarray = np.vstack([req[x] for x in j])          \n",
    "    \n",
    "    return float(str(round(np.sum(reqarray[:,6])/365, 3)))  #finding their mean    \n",
    "\n",
    "def sd(y):                                 \n",
    "\n",
    "    i=range(0,49307)\n",
    "    j=range(1,365)\n",
    "    req=[]\n",
    "    for elm in i:\n",
    "         if betterdata[elm,1] == y:\n",
    "            req.append(betterdata[elm,:])\n",
    "    reqarray = np.vstack([req[x] for x in j]) \n",
    "    \n",
    "    return float(str(round(365*np.std(reqarray[:,6])/364, 3)))         \n",
    "\n",
    "#EROOR BAR PLOT\n",
    "\n",
    "  \n",
    "p=range(1880,2015)\n",
    "x1=[]\n",
    "y1=[]\n",
    "sdv=[]\n",
    "for l in p:        \n",
    "        x1.append(l)\n",
    "        y1.append(avg(l))                    \n",
    "        sdv.append(sd(l))                   \n",
    "    \n",
    "plt.scatter(x1,y1)\n",
    "plt.show()        "
   ]
  },
  {
   "cell_type": "code",
   "execution_count": 88,
   "metadata": {
    "collapsed": false
   },
   "outputs": [
    {
     "data": {
      "image/png": "[encoded data removed]",
      "text/plain": [
       "<matplotlib.figure.Figure at 0x1bc120b1e48>"
      ]
     },
     "metadata": {},
     "output_type": "display_data"
    }
   ],
   "source": [
    "def m(x): \n",
    "    a=[]\n",
    "    for i in range(0,len(x)):\n",
    "        a.append([])\n",
    "    for i in range(0,len(x)):\n",
    "         a[i].append(x[i])\n",
    "    return(a) \n",
    "\n",
    "from sklearn.linear_model import LinearRegression\n",
    "model=LinearRegression().fit(m(x1),m(y1))\n",
    "a=model.coef_\n",
    "b=model.intercept_\n",
    "plt.scatter(x1,y1)\n",
    "plt.scatter(x1,a*x1+b)\n",
    "plt.show()"
   ]
  },
  {
   "cell_type": "code",
   "execution_count": 95,
   "metadata": {
    "collapsed": false
   },
   "outputs": [
    {
     "data": {
      "image/png": "[encoded data removed]",
      "text/plain": [
       "<matplotlib.figure.Figure at 0x1bc0ded5f60>"
      ]
     },
     "metadata": {},
     "output_type": "display_data"
    }
   ],
   "source": [
    "def T(y):                                   \n",
    "    \n",
    "    i=range(0,49307)\n",
    "    j=range(0,729)\n",
    "    req=[]\n",
    "    for elm in i:\n",
    "         if (betterdata[elm,1] == y) or (betterdata[elm,1] == y-1): \n",
    "            req.append(betterdata[elm,:])\n",
    "    reqarray = np.vstack([req[x] for x in j])\n",
    "    return(reqarray[:,6])\n",
    "a=T(2014)\n",
    "b=range(0,729)\n",
    "\n",
    "c=sum(a)/len(a)\n",
    "d=[]\n",
    "for i in range(0,100):\n",
    "    if(a[i]<c):\n",
    "        d.append(0)\n",
    "    elif(a[i]>c):\n",
    "        d.append(1)\n",
    "plt.scatter(range(0,100),d) \n",
    "plt.show()\n",
    "#print(d)"
   ]
  },
  {
   "cell_type": "code",
   "execution_count": 96,
   "metadata": {
    "collapsed": false,
    "scrolled": false
   },
   "outputs": [
    {
     "data": {
      "text/plain": [
       "array([[0.536],\n",
       "       [0.535],\n",
       "       [0.535],\n",
       "       [0.534],\n",
       "       [0.533],\n",
       "       [0.532],\n",
       "       [0.531],\n",
       "       [0.530],\n",
       "       [0.529],\n",
       "       [0.529]])"
      ]
     },
     "execution_count": 96,
     "metadata": {},
     "output_type": "execute_result"
    }
   ],
   "source": [
    "from sklearn.linear_model import LogisticRegression\n",
    "mdl=LinearRegression()\n",
    "mdl.fit(m(range(0,100)),m(d))\n",
    "mdl.predict(m(range(100,110)))"
   ]
  },
  {
   "cell_type": "code",
   "execution_count": null,
   "metadata": {
    "collapsed": true
   },
   "outputs": [],
   "source": []
  },
  {
   "cell_type": "code",
   "execution_count": null,
   "metadata": {
    "collapsed": true
   },
   "outputs": [],
   "source": []
  }
 ],
 "metadata": {
  "kernelspec": {
   "display_name": "Python 3",
   "language": "python",
   "name": "python3"
  },
  "language_info": {
   "codemirror_mode": {
    "name": "ipython",
    "version": 3
   },
   "file_extension": ".py",
   "mimetype": "text/x-python",
   "name": "python",
   "nbconvert_exporter": "python",
   "pygments_lexer": "ipython3",
   "version": "3.6.0"
  }
 },
 "nbformat": 4,
 "nbformat_minor": 2
}
